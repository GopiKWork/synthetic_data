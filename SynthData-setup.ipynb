{
 "cells": [
  {
   "cell_type": "markdown",
   "id": "d7df00b3-06da-4663-819c-874239bd77b7",
   "metadata": {},
   "source": [
    "## Synthetic data generation download instructions for dataset"
   ]
  },
  {
   "cell_type": "code",
   "execution_count": null,
   "id": "6711218f-820d-4dc6-9c62-4166ba2d6a05",
   "metadata": {},
   "outputs": [],
   "source": [
    "!pip3 uninstall torch -y\n",
    "!pip3 install torch"
   ]
  },
  {
   "cell_type": "code",
   "execution_count": null,
   "id": "dc4fb2b5-f5a8-4bfc-ab6d-f5df10a076df",
   "metadata": {},
   "outputs": [],
   "source": [
    "!pip install -r requirements.txt"
   ]
  },
  {
   "cell_type": "code",
   "execution_count": null,
   "id": "1e45a979-35df-4d20-a557-050ee780129f",
   "metadata": {},
   "outputs": [],
   "source": [
    "#If you plan to run SDV notebook, install it heres\n",
    "!pip install sdv"
   ]
  }
 ],
 "metadata": {
  "kernelspec": {
   "display_name": "Python 3 (ipykernel)",
   "language": "python",
   "name": "python3"
  },
  "language_info": {
   "codemirror_mode": {
    "name": "ipython",
    "version": 3
   },
   "file_extension": ".py",
   "mimetype": "text/x-python",
   "name": "python",
   "nbconvert_exporter": "python",
   "pygments_lexer": "ipython3",
   "version": "3.10.14"
  }
 },
 "nbformat": 4,
 "nbformat_minor": 5
}
